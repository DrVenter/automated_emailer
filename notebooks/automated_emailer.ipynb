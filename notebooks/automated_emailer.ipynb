{
 "cells": [
  {
   "cell_type": "markdown",
   "metadata": {},
   "source": [
    "# Automated Emailer"
   ]
  },
  {
   "cell_type": "markdown",
   "metadata": {},
   "source": [
    "## Gmail API: Authenticate and Store Tokens "
   ]
  },
  {
   "cell_type": "code",
   "execution_count": 1,
   "metadata": {},
   "outputs": [],
   "source": [
    "import os\n",
    "import pickle\n",
    "from google.auth.transport.requests import Request\n",
    "from google.oauth2.credentials import Credentials\n",
    "from google_auth_oauthlib.flow import InstalledAppFlow\n",
    "\n",
    "# Scopes for Gmail API\n",
    "SCOPES = ['https://www.googleapis.com/auth/gmail.send']\n",
    "\n",
    "# Paths to credentials and token files\n",
    "CREDENTIALS_PATH = '/home/drventer/Documents/automated_emailer/client_secret_200798494831-sdj2c2eml54fqnmc826oa90k5bq0qqpg.apps.googleusercontent.com.json'  # Replace with the path to your downloaded credentials.json\n",
    "TOKEN_PATH = 'token.pickle'\n",
    "\n",
    "def authenticate_gmail():\n",
    "    creds = None\n",
    "    # Check if token.pickle file exists\n",
    "    if os.path.exists(TOKEN_PATH):\n",
    "        with open(TOKEN_PATH, 'rb') as token:\n",
    "            creds = pickle.load(token)\n",
    "\n",
    "    # If no valid credentials are available, prompt user to log in\n",
    "    if not creds or not creds.valid:\n",
    "        if creds and creds.expired and creds.refresh_token:\n",
    "            creds.refresh(Request())\n",
    "        else:\n",
    "            flow = InstalledAppFlow.from_client_secrets_file(CREDENTIALS_PATH, SCOPES)\n",
    "            creds = flow.run_local_server(port=0)\n",
    "        # Save the credentials for the next run\n",
    "        with open(TOKEN_PATH, 'wb') as token:\n",
    "            pickle.dump(creds, token)\n",
    "    return creds\n"
   ]
  },
  {
   "cell_type": "markdown",
   "metadata": {},
   "source": [
    "## Gmail API: Function for Sending Email"
   ]
  },
  {
   "cell_type": "code",
   "execution_count": 2,
   "metadata": {},
   "outputs": [],
   "source": [
    "import base64\n",
    "from email.mime.text import MIMEText\n",
    "from googleapiclient.discovery import build\n",
    "\n",
    "def send_email(service, sender_email, recipient_email, subject, message_body):\n",
    "    message = MIMEText(message_body)\n",
    "    message['to'] = recipient_email\n",
    "    message['from'] = sender_email\n",
    "    message['subject'] = subject\n",
    "\n",
    "    raw_message = base64.urlsafe_b64encode(message.as_bytes()).decode()\n",
    "    raw = {'raw': raw_message}\n",
    "\n",
    "    try:\n",
    "        message = service.users().messages().send(userId='me', body=raw).execute()\n",
    "        print(f\"Message Id: {message['id']}\")\n",
    "    except Exception as e:\n",
    "        print(f\"An error occurred: {str(e)}\")\n"
   ]
  },
  {
   "cell_type": "markdown",
   "metadata": {},
   "source": [
    "## Iterate through Email Addresses and Send Custom Emails"
   ]
  },
  {
   "cell_type": "code",
   "execution_count": 19,
   "metadata": {},
   "outputs": [],
   "source": [
    "\n",
    "import pandas as pd\n",
    "\n",
    "creds = authenticate_gmail()\n",
    "service = build('gmail', 'v1', credentials=creds)\n",
    "\n",
    "document_name = \"/home/drventer/Documents/automated_emailer/data/sent_email_addresses\" \n",
    "sent_email_addresses = pd.read_excel(f\"{document_name}.xlsx\")\n",
    "document_name = \"/home/drventer/Documents/automated_emailer/data/email_addresses_to_send\"\n",
    "email_addresses_to_send = pd.read_excel(f\"{document_name}.xlsx\")\n",
    "\n",
    "for row in range(0,len(email_addresses_to_send)):\n",
    "    sender_email = 'ventercolin3@gmail.com' # Replace with your own email address\n",
    "    recipient_email = email_addresses_to_send[\"Email Address\"][row]\n",
    "    if recipient_email[-1] == \".\": recipient_email = recipient_email[0:len(recipient_email)-1]\n",
    "    subject = \"Request for Copy of Research Paper\"\n",
    "\n",
    "    author = email_addresses_to_send[\"Author\"][row]\n",
    "    article = email_addresses_to_send[\"Article Title\"][row]\n",
    "\n",
    "    message_body = f\"\"\"\n",
    "Hi, {author}!\n",
    "\n",
    "My name is Colin and I'm doing research that is similiar to your article titled:\n",
    "\n",
    "{article}\n",
    "\n",
    "Could you please send me a pdf copy at your eariliest convenience? I'd really like to read the full article!\n",
    "\n",
    "I'd sincerely appreciate your help.\n",
    "\n",
    "Kind regards,\n",
    "Colin\n",
    "\"\"\"\n",
    "    \n",
    "    if recipient_email not in sent_email_addresses[\"Email\"].tolist(): # This prevents the script from accidentally spamming an email address with multiple emails\n",
    "        sent = pd.DataFrame({\"Email\": [recipient_email], \"Name\": [author]})\n",
    "        sent_email_addresses = pd.concat([sent_email_addresses,sent], ignore_index=True)\n",
    "        send_email(service, sender_email, recipient_email, subject, message_body)\n",
    "\n",
    "document_name = \"/home/drventer/Documents/automated_emailer/data/sent_email_addresses\" \n",
    "sent_email_addresses.to_excel(f'{document_name}.xlsx', index=False)\n",
    "\n"
   ]
  }
 ],
 "metadata": {
  "kernelspec": {
   "display_name": ".venv",
   "language": "python",
   "name": "python3"
  },
  "language_info": {
   "codemirror_mode": {
    "name": "ipython",
    "version": 3
   },
   "file_extension": ".py",
   "mimetype": "text/x-python",
   "name": "python",
   "nbconvert_exporter": "python",
   "pygments_lexer": "ipython3",
   "version": "3.12.3"
  }
 },
 "nbformat": 4,
 "nbformat_minor": 2
}
